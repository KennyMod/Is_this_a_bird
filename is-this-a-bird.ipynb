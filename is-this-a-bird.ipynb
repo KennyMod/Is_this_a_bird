{
 "cells": [
  {
   "cell_type": "code",
   "execution_count": null,
   "metadata": {
    "collapsed": true,
    "execution": {
     "iopub.execute_input": "2025-06-12T07:36:29.305358Z",
     "iopub.status.busy": "2025-06-12T07:36:29.304895Z",
     "iopub.status.idle": "2025-06-12T07:38:01.167246Z",
     "shell.execute_reply": "2025-06-12T07:38:01.166201Z",
     "shell.execute_reply.started": "2025-06-12T07:36:29.305323Z"
    },
    "jupyter": {
     "outputs_hidden": true
    },
    "trusted": true
   },
   "outputs": [],
   "source": [
    "%pip install -Uqq fastbook"
   ]
  },
  {
   "cell_type": "code",
   "execution_count": null,
   "metadata": {
    "execution": {
     "iopub.execute_input": "2025-06-12T08:41:00.070917Z",
     "iopub.status.busy": "2025-06-12T08:41:00.070081Z",
     "iopub.status.idle": "2025-06-12T08:41:00.076114Z",
     "shell.execute_reply": "2025-06-12T08:41:00.074997Z",
     "shell.execute_reply.started": "2025-06-12T08:41:00.070888Z"
    },
    "trusted": true
   },
   "outputs": [],
   "source": [
    "from fastbook import *"
   ]
  },
  {
   "cell_type": "code",
   "execution_count": null,
   "metadata": {
    "execution": {
     "iopub.execute_input": "2025-06-12T08:41:03.588464Z",
     "iopub.status.busy": "2025-06-12T08:41:03.588056Z",
     "iopub.status.idle": "2025-06-12T08:41:05.214357Z",
     "shell.execute_reply": "2025-06-12T08:41:05.213277Z",
     "shell.execute_reply.started": "2025-06-12T08:41:03.588437Z"
    },
    "trusted": true
   },
   "outputs": [],
   "source": [
    "urls = search_images_ddg('bird photos', max_images=1)\n",
    "len(urls), urls[0]"
   ]
  },
  {
   "cell_type": "code",
   "execution_count": null,
   "metadata": {
    "execution": {
     "iopub.execute_input": "2025-06-12T08:52:29.889369Z",
     "iopub.status.busy": "2025-06-12T08:52:29.888838Z",
     "iopub.status.idle": "2025-06-12T08:52:30.572636Z",
     "shell.execute_reply": "2025-06-12T08:52:30.571181Z",
     "shell.execute_reply.started": "2025-06-12T08:52:29.889317Z"
    },
    "trusted": true
   },
   "outputs": [],
   "source": [
    "import time\n",
    "filename = f\"bird_{time.time_ns()}.jpg\"\n",
    "dest = Path(filename)\n",
    "if not dest.exists(): download_url(urls[0], dest, show_progress=False)\n",
    "dest"
   ]
  },
  {
   "cell_type": "code",
   "execution_count": null,
   "metadata": {
    "execution": {
     "iopub.execute_input": "2025-06-12T08:52:35.588888Z",
     "iopub.status.busy": "2025-06-12T08:52:35.588532Z",
     "iopub.status.idle": "2025-06-12T08:52:35.632368Z",
     "shell.execute_reply": "2025-06-12T08:52:35.631346Z",
     "shell.execute_reply.started": "2025-06-12T08:52:35.588863Z"
    },
    "trusted": true
   },
   "outputs": [],
   "source": [
    "im = Image.open(dest)\n",
    "im.to_thumb(256,256)"
   ]
  },
  {
   "cell_type": "code",
   "execution_count": null,
   "metadata": {
    "execution": {
     "iopub.execute_input": "2025-06-12T09:04:09.489565Z",
     "iopub.status.busy": "2025-06-12T09:04:09.488830Z",
     "iopub.status.idle": "2025-06-12T09:04:57.999953Z",
     "shell.execute_reply": "2025-06-12T09:04:57.998426Z",
     "shell.execute_reply.started": "2025-06-12T09:04:09.489539Z"
    },
    "trusted": true
   },
   "outputs": [],
   "source": [
    "searches = 'forest', 'bird'\n",
    "path = Path('bird_or_not')\n",
    "\n",
    "# Always create base directory\n",
    "path.mkdir(exist_ok=True, parents=True)\n",
    "\n",
    "for o in searches:\n",
    "    class_path = path/o  # bird_or_not/forest or bird_or_not/bird\n",
    "    \n",
    "    # Create class directory if missing\n",
    "    class_path.mkdir(exist_ok=True, parents=True)\n",
    "    \n",
    "    # Only download if directory is empty\n",
    "    if len(list(class_path.glob('*'))) == 0:\n",
    "        print(f\"Downloading {o} images...\")\n",
    "        results = search_images_ddg(f'{o} photo', max_images=200)\n",
    "        download_images(class_path, urls=results)\n",
    "        resize_images(class_path, max_size=400, dest=class_path)"
   ]
  },
  {
   "cell_type": "code",
   "execution_count": null,
   "metadata": {
    "execution": {
     "iopub.execute_input": "2025-06-12T09:05:25.453588Z",
     "iopub.status.busy": "2025-06-12T09:05:25.453107Z",
     "iopub.status.idle": "2025-06-12T09:05:25.467001Z",
     "shell.execute_reply": "2025-06-12T09:05:25.465812Z",
     "shell.execute_reply.started": "2025-06-12T09:05:25.453550Z"
    },
    "trusted": true
   },
   "outputs": [],
   "source": [
    "print(\"\\nFinal directory status:\")\n",
    "for o in searches:\n",
    "    class_path = path/o\n",
    "    imgs = get_image_files(class_path)\n",
    "    print(f\"{o}: {len(imgs)} images\")\n",
    "    if len(imgs) > 0:\n",
    "        print(f\"  Sample: {imgs[0]}\")"
   ]
  },
  {
   "cell_type": "code",
   "execution_count": null,
   "metadata": {
    "execution": {
     "iopub.execute_input": "2025-06-12T09:05:37.137729Z",
     "iopub.status.busy": "2025-06-12T09:05:37.137375Z",
     "iopub.status.idle": "2025-06-12T09:05:38.089490Z",
     "shell.execute_reply": "2025-06-12T09:05:38.088279Z",
     "shell.execute_reply.started": "2025-06-12T09:05:37.137705Z"
    },
    "trusted": true
   },
   "outputs": [],
   "source": [
    "failed = verify_images(get_image_files(path))\n",
    "failed.map(Path.unlink)"
   ]
  },
  {
   "cell_type": "code",
   "execution_count": null,
   "metadata": {
    "execution": {
     "iopub.execute_input": "2025-06-12T09:05:47.126812Z",
     "iopub.status.busy": "2025-06-12T09:05:47.126338Z",
     "iopub.status.idle": "2025-06-12T09:05:47.141339Z",
     "shell.execute_reply": "2025-06-12T09:05:47.140234Z",
     "shell.execute_reply.started": "2025-06-12T09:05:47.126748Z"
    },
    "trusted": true
   },
   "outputs": [],
   "source": [
    "# Check total images\n",
    "image_files = get_image_files(path)\n",
    "print(f\"Total images found: {len(image_files)}\")\n",
    "\n",
    "# Check per category\n",
    "for category in searches:\n",
    "    cat_files = get_image_files(path/category)\n",
    "    print(f\"{category} images: {len(cat_files)}\")"
   ]
  },
  {
   "cell_type": "code",
   "execution_count": null,
   "metadata": {
    "execution": {
     "iopub.execute_input": "2025-06-12T09:05:54.469861Z",
     "iopub.status.busy": "2025-06-12T09:05:54.468365Z",
     "iopub.status.idle": "2025-06-12T09:05:54.478375Z",
     "shell.execute_reply": "2025-06-12T09:05:54.476934Z",
     "shell.execute_reply.started": "2025-06-12T09:05:54.469806Z"
    },
    "trusted": true
   },
   "outputs": [],
   "source": [
    "# Sample first 5 image paths\n",
    "print(\"Sample image paths:\")\n",
    "for f in image_files[:5]:\n",
    "    print(f)"
   ]
  },
  {
   "cell_type": "code",
   "execution_count": null,
   "metadata": {
    "execution": {
     "iopub.execute_input": "2025-06-12T09:06:17.462841Z",
     "iopub.status.busy": "2025-06-12T09:06:17.462354Z",
     "iopub.status.idle": "2025-06-12T09:06:18.684390Z",
     "shell.execute_reply": "2025-06-12T09:06:18.683350Z",
     "shell.execute_reply.started": "2025-06-12T09:06:17.462810Z"
    },
    "trusted": true
   },
   "outputs": [],
   "source": [
    "dls = DataBlock(\n",
    "    blocks=(ImageBlock, CategoryBlock),\n",
    "    get_items=get_image_files,\n",
    "    splitter=RandomSplitter(valid_pct=0.2, seed=42),\n",
    "    get_y=parent_label,\n",
    "    item_tfms=[Resize(192, method='squish')]\n",
    ").dataloaders(path)\n",
    "\n",
    "dls.show_batch(max_n=6)"
   ]
  },
  {
   "cell_type": "code",
   "execution_count": null,
   "metadata": {
    "execution": {
     "iopub.execute_input": "2025-06-12T09:15:54.060458Z",
     "iopub.status.busy": "2025-06-12T09:15:54.060102Z",
     "iopub.status.idle": "2025-06-12T09:19:17.010586Z",
     "shell.execute_reply": "2025-06-12T09:19:17.009178Z",
     "shell.execute_reply.started": "2025-06-12T09:15:54.060430Z"
    },
    "trusted": true
   },
   "outputs": [],
   "source": [
    "learn = vision_learner(dls, resnet18, metrics=error_rate)\n",
    "learn.fine_tune(3)"
   ]
  },
  {
   "cell_type": "code",
   "execution_count": null,
   "metadata": {
    "execution": {
     "iopub.execute_input": "2025-06-12T09:22:59.002638Z",
     "iopub.status.busy": "2025-06-12T09:22:59.001104Z",
     "iopub.status.idle": "2025-06-12T09:22:59.186584Z",
     "shell.execute_reply": "2025-06-12T09:22:59.185492Z",
     "shell.execute_reply.started": "2025-06-12T09:22:59.002589Z"
    },
    "trusted": true
   },
   "outputs": [],
   "source": [
    "is_bird,_,probs = learn.predict(PILImage.create(dest))\n",
    "print(f\"This is a: {is_bird}.\")\n",
    "print(f\"Probability it's a bird: {probs[0]: .4f}\")"
   ]
  }
 ],
 "metadata": {
  "kaggle": {
   "accelerator": "none",
   "dataSources": [],
   "dockerImageVersionId": 31040,
   "isGpuEnabled": false,
   "isInternetEnabled": true,
   "language": "python",
   "sourceType": "notebook"
  },
  "kernelspec": {
   "display_name": ".venv",
   "language": "python",
   "name": "python3"
  },
  "language_info": {
   "codemirror_mode": {
    "name": "ipython",
    "version": 3
   },
   "file_extension": ".py",
   "mimetype": "text/x-python",
   "name": "python",
   "nbconvert_exporter": "python",
   "pygments_lexer": "ipython3",
   "version": "3.9.6"
  }
 },
 "nbformat": 4,
 "nbformat_minor": 4
}
